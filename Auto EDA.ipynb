{
 "cells": [
  {
   "cell_type": "code",
   "execution_count": 1,
   "id": "9f828b7b",
   "metadata": {},
   "outputs": [],
   "source": [
    "import warnings\n",
    "warnings.filterwarnings(\"ignore\")\n",
    "\n",
    "import numpy as np\n",
    "import pandas as pd\n",
    "import pandas_profiling as pp\n",
    "import random"
   ]
  },
  {
   "cell_type": "markdown",
   "id": "2430f257",
   "metadata": {},
   "source": [
    "## Pandas Profiling"
   ]
  },
  {
   "cell_type": "code",
   "execution_count": 2,
   "id": "c20659cd",
   "metadata": {},
   "outputs": [],
   "source": [
    "df = pd.read_csv('All_data_manual.csv')"
   ]
  },
  {
   "cell_type": "code",
   "execution_count": 3,
   "id": "6d6a174c",
   "metadata": {},
   "outputs": [],
   "source": [
    "df = df.sample(frac=0.1, replace=True, random_state=1)"
   ]
  },
  {
   "cell_type": "code",
   "execution_count": 4,
   "id": "07f38662",
   "metadata": {},
   "outputs": [
    {
     "data": {
      "text/html": [
       "<div>\n",
       "<style scoped>\n",
       "    .dataframe tbody tr th:only-of-type {\n",
       "        vertical-align: middle;\n",
       "    }\n",
       "\n",
       "    .dataframe tbody tr th {\n",
       "        vertical-align: top;\n",
       "    }\n",
       "\n",
       "    .dataframe thead th {\n",
       "        text-align: right;\n",
       "    }\n",
       "</style>\n",
       "<table border=\"1\" class=\"dataframe\">\n",
       "  <thead>\n",
       "    <tr style=\"text-align: right;\">\n",
       "      <th></th>\n",
       "      <th>feature</th>\n",
       "      <th>importance</th>\n",
       "      <th>fold</th>\n",
       "    </tr>\n",
       "  </thead>\n",
       "  <tbody>\n",
       "    <tr>\n",
       "      <th>0</th>\n",
       "      <td>APP_EXT_SOURCE_2</td>\n",
       "      <td>281</td>\n",
       "      <td>3</td>\n",
       "    </tr>\n",
       "    <tr>\n",
       "      <th>1</th>\n",
       "      <td>APP_EXT_SOURCE_2</td>\n",
       "      <td>269</td>\n",
       "      <td>7</td>\n",
       "    </tr>\n",
       "    <tr>\n",
       "      <th>2</th>\n",
       "      <td>APP_EXT_SOURCE_2</td>\n",
       "      <td>259</td>\n",
       "      <td>9</td>\n",
       "    </tr>\n",
       "    <tr>\n",
       "      <th>3</th>\n",
       "      <td>APP_EXT_SOURCE_2</td>\n",
       "      <td>257</td>\n",
       "      <td>8</td>\n",
       "    </tr>\n",
       "    <tr>\n",
       "      <th>4</th>\n",
       "      <td>APP_EXT_SOURCE_3</td>\n",
       "      <td>256</td>\n",
       "      <td>9</td>\n",
       "    </tr>\n",
       "    <tr>\n",
       "      <th>...</th>\n",
       "      <td>...</td>\n",
       "      <td>...</td>\n",
       "      <td>...</td>\n",
       "    </tr>\n",
       "    <tr>\n",
       "      <th>995</th>\n",
       "      <td>PREV_NAME_CLIENT_TYPE_Refreshed_MEAN</td>\n",
       "      <td>3</td>\n",
       "      <td>4</td>\n",
       "    </tr>\n",
       "    <tr>\n",
       "      <th>996</th>\n",
       "      <td>CCB_AMT_INST_MIN_REGULARITY_SUM</td>\n",
       "      <td>3</td>\n",
       "      <td>2</td>\n",
       "    </tr>\n",
       "    <tr>\n",
       "      <th>997</th>\n",
       "      <td>BB_AMT_ANNUITY_SUM</td>\n",
       "      <td>3</td>\n",
       "      <td>10</td>\n",
       "    </tr>\n",
       "    <tr>\n",
       "      <th>998</th>\n",
       "      <td>BB_NEW_CLOSED_DAYS_CREDIT_VAR</td>\n",
       "      <td>3</td>\n",
       "      <td>2</td>\n",
       "    </tr>\n",
       "    <tr>\n",
       "      <th>999</th>\n",
       "      <td>BB_NEW_ACTIVE_AMT_CREDIT_SUM_DEBT_MEAN</td>\n",
       "      <td>1</td>\n",
       "      <td>4</td>\n",
       "    </tr>\n",
       "  </tbody>\n",
       "</table>\n",
       "<p>1000 rows × 3 columns</p>\n",
       "</div>"
      ],
      "text/plain": [
       "                                    feature  importance  fold\n",
       "0                          APP_EXT_SOURCE_2         281     3\n",
       "1                          APP_EXT_SOURCE_2         269     7\n",
       "2                          APP_EXT_SOURCE_2         259     9\n",
       "3                          APP_EXT_SOURCE_2         257     8\n",
       "4                          APP_EXT_SOURCE_3         256     9\n",
       "..                                      ...         ...   ...\n",
       "995    PREV_NAME_CLIENT_TYPE_Refreshed_MEAN           3     4\n",
       "996         CCB_AMT_INST_MIN_REGULARITY_SUM           3     2\n",
       "997                      BB_AMT_ANNUITY_SUM           3    10\n",
       "998           BB_NEW_CLOSED_DAYS_CREDIT_VAR           3     2\n",
       "999  BB_NEW_ACTIVE_AMT_CREDIT_SUM_DEBT_MEAN           1     4\n",
       "\n",
       "[1000 rows x 3 columns]"
      ]
     },
     "execution_count": 4,
     "metadata": {},
     "output_type": "execute_result"
    }
   ],
   "source": [
    "important = pd.read_csv('Important_features.csv')\n",
    "del important['Unnamed: 0']\n",
    "important"
   ]
  },
  {
   "cell_type": "code",
   "execution_count": 5,
   "id": "c60d4b8e",
   "metadata": {},
   "outputs": [
    {
     "data": {
      "text/plain": [
       "array(['APP_EXT_SOURCE_2', 'APP_EXT_SOURCE_3', 'APP_EXT_SOURCE_1',\n",
       "       'APP_DAYS_EMPLOYED', 'APP_AMT_ANNUITY', 'APP_OWN_CAR_AGE',\n",
       "       'APP_NEW_PAYMENT_RATE', 'APP_DAYS_ID_PUBLISH',\n",
       "       'PREV_INS_NEW_DAYS_PAID_EARLIER_MEAN_MEAN',\n",
       "       'BB_NEW_MONTHS_CREDIT_MEAN', 'APP_DAYS_BIRTH',\n",
       "       'APP_NEW_DAYS_EMPLOYED_PERC', 'BB_NEW_ACTIVE_DAYS_CREDIT_MAX',\n",
       "       'APP_DAYS_REGISTRATION', 'BB_NEW_ACTIVE_DAYS_CREDIT_ENDDATE_MEAN',\n",
       "       'APP_DAYS_LAST_PHONE_CHANGE', 'APP_AMT_GOODS_PRICE',\n",
       "       'APP_NEW_INCOME_CREDIT_PERC', 'PREV_POS_MONTHS_BALANCE_MAX_MEAN',\n",
       "       'APP_AMT_CREDIT', 'PREV_NEW_LOAN_RATE_MAX',\n",
       "       'PREV_INS_NEW_DAYS_PAID_EARLIER_MEAN_MIN',\n",
       "       'BB_NEW_CLOSED_DAYS_CREDIT_ENDDATE_MAX',\n",
       "       'BB_NEW_ACTIVE_DAYS_CREDIT_ENDDATE_MAX', 'BB_DAYS_CREDIT_MAX',\n",
       "       'PREV_INS_AMT_PAYMENT_MIN_SUM',\n",
       "       'BB_NEW_ACTIVE_DAYS_CREDIT_ENDDATE_MIN', 'PREV_NEW_LOAN_RATE_MEAN',\n",
       "       'BB_NEW_ACTIVE_AMT_CREDIT_SUM_DEBT_MAX',\n",
       "       'PREV_INS_NEW_DAYS_PAID_EARLIER_MEAN_SUM',\n",
       "       'BB_DAYS_ENDDATE_FACT_MAX', 'APP_HOUR_APPR_PROCESS_START',\n",
       "       'BB_NEW_ACTIVE_DAYS_CREDIT_UPDATE_MEAN',\n",
       "       'CCB_AMT_DRAWINGS_ATM_CURRENT_MEAN',\n",
       "       'APP_REGION_POPULATION_RELATIVE',\n",
       "       'PREV_INS_AMT_INSTALMENT_MIN_MIN',\n",
       "       'PREV_NAME_TYPE_SUITE_alone_MEAN', 'BB_AMT_CREDIT_SUM_MIN',\n",
       "       'BB_AMT_CREDIT_SUM_MEAN', 'BB_NEW_CLOSED_AMT_CREDIT_SUM_MEAN',\n",
       "       'BB_DAYS_CREDIT_UPDATE_MAX', 'PREV_POS_MONTHS_BALANCE_MIN_MEAN',\n",
       "       'PREV_INS_AMT_PAYMENT_MIN_MIN', 'BB_DAYS_CREDIT_ENDDATE_MAX',\n",
       "       'PREV_INS_NEW_DAYS_PAID_EARLIER_MEAN_MAX',\n",
       "       'PREV_INS_AMT_PAYMENT_MIN_MEAN', 'PREV_INS_AMT_INSTALMENT_SUM_MIN',\n",
       "       'BB_DAYS_CREDIT_ENDDATE_MIN',\n",
       "       'BB_NEW_ACTIVE_AMT_CREDIT_MAX_OVERDUE_MEAN',\n",
       "       'APP_NEW_ANNUITY_INCOME_PERC', 'BB_STATUS_0_MEAN_MEAN',\n",
       "       'BB_NEW_CLOSED_DAYS_CREDIT_ENDDATE_MEAN', 'APP_CODE_GENDER',\n",
       "       'BB_NEW_CLOSED_DAYS_CREDIT_MAX', 'BB_AMT_CREDIT_SUM_MAX',\n",
       "       'PREV_RATE_DOWN_PAYMENT_MEAN', 'PREV_AMT_APPLICATION_MAX',\n",
       "       'PREV_INS_NEW_PAYMENT_PERC_MEAN',\n",
       "       'PREV_NAME_PAYMENT_TYPE_Cashthroughthebank_MEAN',\n",
       "       'BB_DAYS_ENDDATE_FACT_MIN', 'PREV_NAME_YIELD_GROUP_middle_MEAN',\n",
       "       'BB_NEW_CLOSED_DAYS_CREDIT_VAR',\n",
       "       'BB_NEW_ACTIVE_AMT_CREDIT_SUM_SUM',\n",
       "       'PREV_INS_AMT_INSTALMENT_MAX_MIN', 'BB_DAYS_CREDIT_MIN',\n",
       "       'BB_NEW_CLOSED_DAYS_CREDIT_UPDATE_MEAN',\n",
       "       'PREV_INS_AMT_PAYMENT_SUM_MEAN',\n",
       "       'PREV_INS_NUM_INSTALMENT_NUMBER_MAX_MEAN',\n",
       "       'BB_NEW_ACTIVE_AMT_CREDIT_SUM_MAX',\n",
       "       'PREV_POS_CNT_INSTALMENT_FUTURE_MIN_MAX',\n",
       "       'PREV_NAME_CONTRACT_STATUS_Refused_MEAN', 'APP_ENTRANCES_AVG',\n",
       "       'BB_NEW_ACTIVE_DAYS_CREDIT_MEAN', 'BB_AMT_CREDIT_MAX_OVERDUE_MAX',\n",
       "       'PREV_POS_CNT_INSTALMENT_FUTURE_MAX_MIN',\n",
       "       'PREV_INS_NEW_NUM_PAID_LATER_SUM_MEAN',\n",
       "       'PREV_INS_AMT_INSTALMENT_MIN_MEAN',\n",
       "       'CCB_AMT_INST_MIN_REGULARITY_SUM',\n",
       "       'PREV_POS_NAME_CONTRACT_STATUS_Active_SUM_SUM',\n",
       "       'APP_NEW_INCOME_PER_PERSON', 'PREV_INS_AMT_PAYMENT_SUM_MIN',\n",
       "       'PREV_INS_AMT_PAYMENT_MIN_MAX', 'PREV_CODE_REJECT_REASON_HC_MEAN',\n",
       "       'BB_NEW_ACTIVE_AMT_CREDIT_SUM_DEBT_MEAN', 'BB_AMT_ANNUITY_SUM',\n",
       "       'BB_AMT_CREDIT_SUM_DEBT_MEAN',\n",
       "       'PREV_NAME_CLIENT_TYPE_Refreshed_MEAN', 'PREV_NEW_LOAN_RATE_MIN',\n",
       "       'PREV_CODE_REJECT_REASON_LIMIT_MEAN',\n",
       "       'BB_NEW_CLOSED_DAYS_CREDIT_MEAN',\n",
       "       'PREV_POS_CNT_INSTALMENT_MAX_MEAN',\n",
       "       'APP_NAME_INCOME_TYPE_Stateservant', 'BB_AMT_CREDIT_SUM_LIMIT_MAX',\n",
       "       'APP_NAME_EDUCATION_TYPE_Secondarysecondaryspecial',\n",
       "       'PREV_POS_CNT_INSTALMENT_MAX_MAX', 'BB_NEW_CLOSED_DAYS_CREDIT_MIN',\n",
       "       'PREV_NEW_INSURANCE_MEAN', 'PREV_RATE_DOWN_PAYMENT_SUM',\n",
       "       'BB_DAYS_CREDIT_UPDATE_MIN', 'BB_AMT_CREDIT_SUM_DEBT_MAX'],\n",
       "      dtype=object)"
      ]
     },
     "execution_count": 5,
     "metadata": {},
     "output_type": "execute_result"
    }
   ],
   "source": [
    "important_features = important.feature.unique()\n",
    "important_features"
   ]
  },
  {
   "cell_type": "code",
   "execution_count": 6,
   "id": "4fd92239",
   "metadata": {},
   "outputs": [],
   "source": [
    "# new_data = df.reindex(columns = important_features)\n",
    "data = df[df.columns.intersection(important_features[:20])]"
   ]
  },
  {
   "cell_type": "code",
   "execution_count": 7,
   "id": "f5b64521",
   "metadata": {},
   "outputs": [],
   "source": [
    "profile = pp.ProfileReport(data)"
   ]
  },
  {
   "cell_type": "code",
   "execution_count": 8,
   "id": "445a361c",
   "metadata": {
    "scrolled": false
   },
   "outputs": [
    {
     "data": {
      "application/vnd.jupyter.widget-view+json": {
       "model_id": "fc4ffab719be46e5ab6ce4a2c0b8c67a",
       "version_major": 2,
       "version_minor": 0
      },
      "text/plain": [
       "Summarize dataset:   0%|          | 0/5 [00:00<?, ?it/s]"
      ]
     },
     "metadata": {},
     "output_type": "display_data"
    },
    {
     "data": {
      "application/vnd.jupyter.widget-view+json": {
       "model_id": "caefe40daf2f4c459a3cff54eadde39c",
       "version_major": 2,
       "version_minor": 0
      },
      "text/plain": [
       "Generate report structure:   0%|          | 0/1 [00:00<?, ?it/s]"
      ]
     },
     "metadata": {},
     "output_type": "display_data"
    },
    {
     "data": {
      "application/vnd.jupyter.widget-view+json": {
       "model_id": "",
       "version_major": 2,
       "version_minor": 0
      },
      "text/plain": [
       "Render widgets:   0%|          | 0/1 [00:00<?, ?it/s]"
      ]
     },
     "metadata": {},
     "output_type": "display_data"
    },
    {
     "data": {
      "application/vnd.jupyter.widget-view+json": {
       "model_id": "08efa910b6d74322b894c06a56ad4cea",
       "version_major": 2,
       "version_minor": 0
      },
      "text/plain": [
       "VBox(children=(Tab(children=(Tab(children=(GridBox(children=(VBox(children=(GridspecLayout(children=(HTML(valu…"
      ]
     },
     "metadata": {},
     "output_type": "display_data"
    }
   ],
   "source": [
    "profile.to_widgets()"
   ]
  }
 ],
 "metadata": {
  "kernelspec": {
   "display_name": "Python 3 (ipykernel)",
   "language": "python",
   "name": "python3"
  },
  "language_info": {
   "codemirror_mode": {
    "name": "ipython",
    "version": 3
   },
   "file_extension": ".py",
   "mimetype": "text/x-python",
   "name": "python",
   "nbconvert_exporter": "python",
   "pygments_lexer": "ipython3",
   "version": "3.9.12"
  }
 },
 "nbformat": 4,
 "nbformat_minor": 5
}
